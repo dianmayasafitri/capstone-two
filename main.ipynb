# 1. Proses Import Data
## 1.1. Import Library Panda dan Numpy
import pandas as pd
import numpy as np

# meng-import SaaS-Sales.csv dari file Purwadhika di laptop
dataset_path = "C:\\Users\\ASUS\\OneDrive\\Desktop\\Purwadhika\\Capstone\\Capstone Project 2\\SaaS-Sales.csv"
## 1.2. Proses Membaca Data
saas_sales = pd.read_csv(dataset_path)
# membaca dataset dan mencari informasi berapa jumlah baris dan kolomnya.

print(f"Jumlah baris dan kolom di dataset SaaS-Sales adalah {saas_sales.shape}")
saas_sales.info()
Dataset SaaS-Sales ini berisi informasi terkait transaksi penjualan SaaS yang terdiri dari 19 kolom sebagai berikut:

1. Row ID: ID unik untuk tiap transaksi.
2. Order ID: ID unik untuk tiap pesanan.
3. Order Date: tanggal pesanan dibuat dalam format dd/mm/yyyy.
Contoh: 11/9/2022

4. Date Key: representasi numerik dari tanggal pesanan dalam format yyyymmdd, memudahkan analisis berbasis tanggal.
Contoh: 20221109

5. Contact Name: nama orang atau kontak yang membuat pesanan.
6. Country: negara pelanggan.
7. City: kota pelanggan.
8. Region: wilayah geografis pelanggan secara luas.
Contoh: EMEA → Europe, Middle East, Africa; AMER → Americas

9. Subregion: bagian dari wilayah yang lebih spesifik.
Contoh: UKIR → United Kingdom & Ireland; NAMER → North America

10. Customer: nama perusahaan atau individu pelanggan yang melakukan pesanan.
11. Customer ID: ID unik untuk setiap pelanggan.
12. Industry: industri tempat pelanggan beroperasi.
13. Segment: segmen pelanggan (misal: Small Medium Business/SMB, Strategic, Enterprise, dll).
14. Product: produk yang dipesan.
15. License: tipe lisensi produk (misal: Basic, Pro, Enterprise).
16. Sales: total nilai penjualan untuk transaksi, tanpa menyertakan satuan mata uang.
17. Quantity: jumlah unit produk yang dibeli.
18. Discount: diskon yang diterapkan pada transaksi.
19. Profit: keuntungan dari transaksi.
# 2. Proses Cleaning Data
## 2.1. Mengidentifikasi Missing Values
# Menghitung missing values per kolom

print(f"jumlah missing values di SaaS-Sales dataset adalah {saas_sales.isna().sum().sum()}")
saas_sales.isna().sum()

## 2.2. Menampilkan 10 Baris Pertama pada Data
Kita perlu melihat struktur dan format data sebelum memutuskan langkah pembersihan (misalnya, apakah tanggal sudah terbaca dengan benar? Apakah pendapatan berbentuk angka? apakah tulisan ada yang tidak seragam huruf besar dan kecilnya?dll).

caranya adalah dengan menampilkan 10 baris pertama dari dataset saas_sales.
saas_sales.head(10)
dari tampilan tabel di atas, terdapat dua temuan menarik:
* ada ketidakseragaman cara penulisan tulisan di kolom "Product" (tanpa spasi dan dengan spasi. Contoh: FinanceHub vs Marketing Suite).
* ada profit negatif sebesar -383.0310 untuk diskon 45% (row ID 4, Royal Dutch Shell), yang bisa menjadi bahan analisis untuk perusahaan.
## 2.3. Standardisasi Penulisan (spasi, huruf kapital, dll.)
# membuat penulisan produk menjadi lebih seragam dengan fungsi regular expression (re) untuk standardisasi penulisan di kolom "Product:

import re
# Dua langkah data cleaning langsung ke kolom "Product":

saas_sales['Product'] = saas_sales['Product'].str.replace(
    r'(?<!^)(?=[A-Z])', ' ', regex=True  # menambahkan spasi di depan huruf kapital, kecuali di awal kata
).str.replace(
    r'\bSaa S\b', 'SaaS', regex=True     # memperbaiki penulisan "Saa S" menjadi "SaaS"
)

# Di Python, awalan r artinya raw string (string mentah).
# Raw string membuat Python tidak menganggap \ (backslash) sebagai karakter spesial.
# Dalam regex, \b artinya batas kata (word boundary), yaitu posisi antara huruf/angka (A–Z, a–z, 0–9, _)
# regex= True, artinya kita perintahkan ke pandas agar pola /b sebagai simbol batas kata di regex, bukan teks biasa (huruf \ dan b)

# mengecek hasil standardisasi penulisan dan update di kolom "Product" di 5 baris awal dan 5 baris akhir:
display(saas_sales.head(), saas_sales.tail())
## 2.3. Mengecek Data Duplikat
print(f"jumlah data duplikat di SaaS-Sales dataset adalah {saas_sales.duplicated().sum()}")
saas_sales.duplicated().sum()
# 3. Summary Statistik/Statistika Ringkas 
Selanjutnya, ditampilkan Summary Statistics, baik untuk kolom numerik (angka) maupun kategorikal (huruf)
saas_sales.describe()
Dari tabel statistik numerik di atas, terdapat beberapa insight yang perlu diperhatikan sebagai berikut:

* Rata-rata keuntungan/"Profit" per transaksi adalah 28.66 (pembulatan ke atas)
* std menunjukkan seberapa tersebar data. Nilai std yang besar berarti variasi tinggi.
Contoh: "Profit" memiliki std sebesar 234.26 → nilai profit sangat bervariasi.
* min → Nilai terkecil.
Contoh: "Profit" minimum adalah -6599.978 → beberapa transaksi sangat merugikan.
* 25% (Q1) → Persentil ke-25, artinya 25% nilai berada di bawah angka ini.
Contoh: 25% dari Sales berada di bawah 17.28.
* 50% (median) → Nilai tengah dari data.
Contoh: Median Quantity adalah 3 → setengah dari transaksi menjual 3 produk atau kurang.
* 75% (Q3) – Persentil ke-75.
Contoh: 75% dari "Profit" berada di bawah 29.36 (pembulatan).
* max → Nilai terbesar. 
Contoh: "Sales" tertinggi dalam satu transaksi adalah 22638.48.
* Profit berkisar dari -6599 hingga 8399, artinya ada kerugian dan keuntungan yang ekstrem dan berpotensi sebagai outlier.
df = saas_sales.drop(columns=['Product']).rename(columns={'Product_Clean': 'Product'}) # Column "Product" dengan tulisan belum standar di-drop dan diganti dengan "Product_Clean" yang sudah dirapikan

df.describe(include='object')

# Dengan menambahkan include='object', kita bisa melihat statistik kolom non-numerik, seperti:
# - count: jumlah nilai yang tidak null
# - unique: jumlah nilai unik
# - top: nilai yang paling sering muncul
# - freq: frekuensi dari nilai paling sering muncul
Dari tabel non-numerik (kategorical) di atas, terdapat beberapa insight yang perlu diperhatikan sebagai berikut:

* Order ID:
  - Ada 5.009 Order ID unik dari 9994 baris data.
* Tanggal Order:
  - Data mencakup sekitar 1.237 tanggal transaksi berbeda.
* Tanggal dengan transaksi terbanyak mencatat 38 pesanan.
* Customer & Kontak:
  - Tercatat 793 nama kontak unik. Kontak yang paling sering muncul terlibat dalam 37 transaksi.
  - Customer terbesar adalah Allianz dengan 192 transaksi.
  - Ini menunjukkan ada pelanggan utama yang memberikan kontribusi signifikan pada penjualan.
*	Wilayah Geografis:
  - Transaksi mencakup 48 negara dan 262 kota.
  - United States adalah negara dengan pesanan terbanyak (2.001 pesanan).
  - London adalah kota dengan order terbanyak (922 pesanan).
  - Dari sisi region & subregion, EMEA mendominasi (4.219 pesanan), diikuti oleh NAMER (2.507 pesanan).
  - Ini menunjukkan bisnis paling kuat di EMEA, tetapi Amerika Utara juga cukup signifikan.
*	Industri dan Segmen:
  - Ada 10 industri, dengan Finance sebagai yang terbesar (2.127 pesanan).
  - Penjualan terbagi dalam 3 segmen, dengan SMB (small and medium businesses/UKM) dengan 5.191 pesanan (terbesar).
  - Artinya, basis pelanggan utama adalah bisnis kecil-menengah, meskipun akun besar juga bisa memberi kontribusi besar pada frekuensi pesanan (yaitu Allianz).
* Produk dan Lisensi:
   - Ada 14 produk yang dijual. Produk teratas adalah Contact Matcher dengan 1.842 transaksi.
   - Semua lisensi bersifat unik (9.994 lisensi berbeda), artinya lisensi dikeluarkan khusus untuk setiap transaksi/pelanggan.


Melihat data unique pada tiap kolom dalam bentuk tabel:
pd.set_option('display.max_colwidth', None) # menampilkan kolom berisi teks panjang tanpa dipotong.

listItem = []
for col in saas_sales.columns :
    listItem.append( [col, saas_sales[col].nunique(), saas_sales[col].unique()])

tabel1Desc = pd.DataFrame(columns=['Column Name', 'Number of Unique', 'Unique Sample'],
                     data=listItem)
tabel1Desc
# 4. Data Analysis
Kita sudah melakukan tahap data cleaning dan summary statistics. Sekarang, kita bisa mulai melakukan analisis untuk mencari tahu karakteristik penjualan SaaS untuk memahami apakah penjualan yang besar dan diskon berpengaruh terhadap profit. Hal ini penting untuk menentukan action plan apa selanjutnya yang harus diambil oleh Board of Directors, tim manajerial, dan marketing untuk meningkatkan profit, mengatasi churn rate tinggi, dan meningkatkan (atau setidaknya menjaga) retensi klien.
## 4.1. Distribusi Profit: Untung vs Rugi 
# membuat kolom baru bernama "Profit Status" dengan fungsi lambda.
# Kalau x > 0 → ditulis "Profit" (angka positif, maka transaksi untung)
# Kalau x <= 0 → ditulis "Loss" (angka negatif atau nol, transaksi rugi)

saas_sales['profit_status'] = saas_sales['Profit'].apply(lambda x: 'Profit' if x > 0 else 'Loss')
saas_sales['profit_status'].value_counts()
## 4.1. Berdasarkan Negara 

1. Negara mana dengan profit terbanyak?
2. Kontribusi persentasi profit suatu negara dibandingkan dengan 10 negara dengan profit tertinggi.
df_ct = pd.crosstab(saas_sales['Country'], saas_sales['profit_status'])

df_ct['Total'] = df_ct.sum(axis=1) # axis=1 artinya “horizontal”, jadi jumlah semua kolom dalam satu baris.

df_ct.columns.name = None
df_ct.sort_values('Total', ascending=False).head(10)

## 4.2. Berdasarkan Industri
df_ct = pd.crosstab(saas_sales['Industry'], saas_sales['profit_status'])
df_ct['Total'] = df_ct.sum(axis=1) 
df_ct.columns.name = None   
df_ct.sort_values('Total', ascending=False)
import matplotlib.pyplot as plt

df_top_10 = df_ct.sort_values('Total', ascending=False).head(10)
sizes = df_top_10['Profit']
labels = df_top_10.index
plt.figure(figsize=(12, 12)) 

plt.pie(
    sizes,  
    labels=labels, 
    autopct='%1.1f%%',
    startangle=90,
    wedgeprops={'edgecolor': 'black', 'linewidth': 1},
    textprops={'fontsize': 10} 
)

plt.title('Pembagian Jumlah Profit dari 10 Industri Terbesar', fontsize=14)
plt.axis('equal') 

plt.show()
Insight:
- Jika sumber daya manusia dan keuangan perusahaan terbatas, sebaiknya diprioritaskan untuk menjaga transaksi profit dari 5 idustri terbesar, yaitu: Finance, Energy, Tech, Manufacturing, Healthcare. Bsia dengan membentuk tim khusus (account executives) yang fungsinya seperti customer service yang rutin berkomunikasi untuk menanyakan pengalaman menggunakan prduk SaaS (customer experience). Bisa juga dengan melakukan onboarding secara berkala sebagai service tambahan untuk client yang paling profit.

## 4.3. Berdasarkan Produk
print(saas_sales.columns.tolist())
import re

saas_sales['Product_Clean'] = saas_sales['Product_Clean'].str.strip().str.replace(r'\s+', ' ', regex=True) # menangani spasi berlebih di tengah nama produk.

saas_sales['Product_Clean'] = saas_sales['Product_Clean'].str.replace(r'Saa\s*S\s*Connector\s*Pack', 'SaaS Connector Pack', regex=True) 
# r'Saa\s*S\s*Connector\s*Pack standardisasi menjadi 'SaaS Connector Pack'
saas_sales['Product_Clean'] = saas_sales['Product_Clean'].str.replace(r'Saa\s*S\s*Connector\s*Pack\s*-\s*Gold', 'SaaS Connector Pack - Gold', regex=True)

df_ct = pd.crosstab(saas_sales['Product_Clean'], saas_sales['profit_status'])
df_ct['Total'] = df_ct.sum(axis=1)
df_ct.columns.name = None
top10_profit = df_ct.sort_values('Profit', ascending=False).head(10)
df_ct
top10_profit = df_ct.sort_values('Profit', ascending=False).head(10)

# Pie chart
plt.figure(figsize=(8,8))
plt.pie(top10_profit['Profit'], labels=top10_profit.index, autopct='%1.1f%%', startangle=140)
plt.title('Top 10 Produk Paling Menguntungkan (Profit)')
plt.show()
* Business insight:
Tim produk dan marketing sebaiknya berhenti mempromosikan dan memasarkan Saas Connector Pack- Gold dan One View, mengingat profit margin nya sangat kecil, sehingga tidak sepadan dengan biaya operasional dan tenaga yang dikeluarkan.
Cross-tab & grafik 10 negara dengan transaksi terbanyak dan status profit
import matplotlib.pyplot as plt

# Cross-tab Country vs Profit/Loss
df_ct = pd.crosstab(saas_sales['Country'], saas_sales['profit_status'])
df_ct['Total'] = df_ct.sum(axis=1)

# Urutkan berdasarkan total transaksi
df_ct = df_ct.sort_values('Total', ascending=False)

# Plot 10 negara teratas
df_ct.drop(columns='Total').head(10).plot(
    kind='bar',
    figsize=(10,6),
    title='10 Negara dengan Jumlah Transaksi Terbanyak (Profit vs Loss)'
)
plt.ylabel("Jumlah Transaksi")
plt.xlabel("Negara")
plt.show()
Kita bisa melihat 10 negara dengan jumlah transaksi terbesar.
* Dari grafik terlihat mana negara yang sebagian besar transaksinya untung, dan mana yang cenderung rugi.
* hampir semua negara (kecuali Jepang, Prancis, Australia, dan Meksiko) menunjukkan profit yang jauh lebih besar daripada loss.
* Jepang dan Prancis menunjukkan loss vs profit yang hampir sama, sementara Australia kerugian transaksi lebih besar daripada keuntungannya. Profit Meksiko lebih besar, tapi jumlahnya tidak terlalu signifikan dibandingkan dengan loss Meksiko.

# Distribusi nilai Sales berdasarkan Profit vs Loss

import seaborn as sns

plt.figure(figsize=(15,10))
sns.histplot(saas_sales[saas_sales['profit_status']=='Profit']['Sales'], 
             label='Profit', color='green', kde=True, stat='density') 
# KDE (Kernel Density Estimate) = cara untuk memperkirakan bentuk sebaran data  dengan menambahkan garis lengkung halus di atasnya.
sns.histplot(saas_sales[saas_sales['profit_status']=='Loss']['Sales'], 
             label='Loss', color='red', kde=True, stat='density')

plt.title('Distribusi Nilai Sales Berdasarkan Profit Status')
plt.legend()
plt.xlabel("Nilai Sales")
plt.ylabel("Density")
plt.show()
Temuan Utama dari grafik di atas:

* Sebagian besar nilai Sales sangat kecil (mendekati 0):
  - Baik transaksi Profit (hijau) maupun Loss (merah) terkonsentrasi di sisi kiri (mendekati 0).
  - Artinya, mayoritas transaksi dalam dataset SaaS ini melibatkan nilai penjualan yang rendah.

* Ekor panjang ke kanan (distribusi miring/right-skewed):
  - Ada beberapa transaksi dengan nilai penjualan sangat tinggi (outlier) hingga lebih dari 20.000.
  - Namun, jumlahnya sangat sedikit dibandingkan dengan transaksi yang bernilai kecil.

* Kurva merah (Loss) dan hijau (Profit) hampir tumpang tindih:
 - Ini berarti baik transaksi yang menghasilkan laba maupun rugi memiliki pola distribusi nilai penjualan yang mirip.
 - Perbedaannya mungkin bukan di jumlah penjualannya, tapi di struktur biaya, diskon, atau faktor lain.

 * Insight bisnis:
 - Kita harus fokus mengoptimalkan proses untuk volume tinggi penjualan kecil.
## 4.5 Analisis lebih lanjut: Discount Analysis

1. Apakah transaksi dengan diskon lebih tinggi lebih sering menghasilkan loss?
2. Atau sebaliknya: apakah diskon rendah cenderung menghasilkan profit?



plt.figure(figsize=(12,6))

sns.histplot(saas_sales[saas_sales['profit_status']=='Profit']['Discount'], 
             label='Profit', color='green', kde=True, stat='density')
sns.histplot(saas_sales[saas_sales['profit_status']=='Loss']['Discount'], 
             label='Loss', color='red', kde=True, stat='density')

plt.title('Distribusi Discount Berdasarkan Profit Status')
plt.legend()
plt.xlabel('Discount')
plt.ylabel('Density')
plt.show()
Interpretasi Distribusi Discount Berdasarkan Loss vs Profit Status:

1. Profit (Hijau):
   - Mayoritas transaksi yang menghasilkan Profit terjadi pada discount rendah (sekitar 0% dan 20%).
   - Walaupun ada irisan kecil pada diskon rendah (0–0.2), artinya tidak semua transaksi dengan diskon rendah otomatis profit (ada sebagian kecil yang tetap rugi).
   
2. Loss (Merah):
   - Distribusi Loss lebih banyak muncul di diskon tinggi (> 20% sampai 80%).
## Uji Normalitas Kolom Sales
from scipy.stats import mannwhitneyu

stats, pval = mannwhitneyu(
    saas_sales[saas_sales['profit_status']=='Profit']['Sales'],
    saas_sales[saas_sales['profit_status']=='Loss']['Sales'],
    alternative='two-sided'  
)

if pval <= 0.05:
    print('Menolak Ho: Ada perbedaan signifikan Sales antara Profit dan Loss')
else:
    print('Menerima Ho: Tidak ada perbedaan signifikan Sales antara Profit dan Loss')

print(f"statistik uji = {stats}, p-value = {pval}")
Dari uji statistik di atas, bisa kita simpulkan bahwa : besar-kecilnya Sales tidak otomatis menentukan apakah transaksi itu untung atau rugi (Profit/Loss).
Ini berarti bisa jadi ada faktor lain (misalnya diskon, segmentasi pelanggan, memaksimalkan sumber daya untuk pemasaran produk tertentu, dll.) yang lebih menjelaskan kenapa transaksi menjadi Profit atau Loss dibanding Sales itu sendiri.
plt.figure(figsize=(8,7))
sns.boxplot(y='Sales', x='profit_status', data=saas_sales)
plt.title('Boxplot Sales berdasarkan Profit Status')
plt.ylabel('Sales')
plt.xlabel('Profit Status')
plt.show()
* Pada boxplot di atas, bisa kita lihat bahwa, sejalan dengan analisis statistik uji Mann-Whitney sebelumnya, median Sales antara Profit dan Loss tidak berbeda jauh. 
* Terdapat outlier pada transaksi dengan sales besar, baik untuk Profit maupun Loss. Outlier adalah titik-titik yang muncul di atas box, merupakan penjualan yang jauh lebih tinggi dibandingkan dengan pola penjualan pada umumnya (mayoritas). 
* Bisnis sangat bergantung pada frekuensi tinggi dari transaksi berskala kecil. Ini menunjukkan bahwa masalah utama perusahaan bukanlah volume penjualan, melainkan kontrol margin dan efisiensi biaya, karena median nilai penjualan sangat mirip antara transaksi yang untung dan yang rugi.
* Terdapat transaksi dengan nilai Penjualan sangat tinggi (mencapai lebih dari $15.000) yang masih menghasilkan keuntungan positif. Pelanggan ini adalah tipe pelanggan ideal, sehingga kita perlu menjaga komunikasi, kualitas service, dan kemungkinan memberikan bundling service atau produk untuk menjaga retensi pelanggan ini.
* Terdapat transaksi dengan nilai penjualan tinggi (mencapai sekitar $8.000) yang menghasilkan kerugian bersih bagi perusahaan.Ini merupakan major concern yang mengindikasikan kelemahan sistemik dalam kebijakan harga, diskon, atau efisiensi operasional. 
# 5. Cohort Analysis 

- Melacak Perilaku Pelanggan dari Waktu ke Waktu
- Bisa dipakai apakah ada kecenderungan pelanggan kita melakukan churn (pelanggan tidak menggunakan aplikasi kita lagi)

## 5.1. Menentukan Cohort
# Membaca data SaaS Sales

import pandas as pd
from operator import attrgetter

saas_sales = pd.read_csv('SaaS-Sales.csv', parse_dates=['Order Date'], low_memory= False)

# mengubah kolom Order Date menjadi format datetime, bukan tetap sebagai string.
# low_memory=False, pandas membaca seluruh file sekaligus dan menebak tipe data yang benar untuk setiap kolom.
# Buat salinan data untuk cohort analysis
cohort_dataset_copy = saas_sales.copy()
### 5.1.1. Tanggal pertama pembelian per customer 
- untuk setiap baris pelanggan, ambil tanggal pemesanan pertama dari pelanggan itu.
cohort_dataset_copy['Cohort_Date'] = cohort_dataset_copy.groupby('Customer')['Order Date'].transform('min') 
cohort_dataset_copy['Cohort_Date'] = pd.to_datetime(cohort_dataset_copy['Cohort_Date']) # Memastikan kolom Cohort_Date berformat datetime.

# Konversi ke format periode bulan
cohort_dataset_copy['Cohort_Date'] = cohort_dataset_copy['Cohort_Date'].dt.to_period('M')

# Periode transaksi saat ini
cohort_dataset_copy['Current_Period'] = cohort_dataset_copy['Order Date'].dt.to_period('M') # Mengubah datetime menjadi periode bulanan (year-month).
### 5.1.2. Hitung jumlah customer per cohort dan periode
customer_num_per_period = cohort_dataset_copy.groupby(['Cohort_Date', 'Current_Period'])['Customer'].nunique().reset_index()
# "Cohort Date" → bulan pertama pelanggan melakukan transaksi
# Current_Period → bulan transaksi saat ini.
# Period_Num → selisih bulan antara transaksi saat ini dan bulan pertama, digunakan untuk melihat retensi per periode. 

customer_num_per_period = customer_num_per_period.rename(columns={'Customer': 'Customer_Num'})
### 5.1.3. Periode relatif cohort
customer_num_per_period['Period_Num'] = (customer_num_per_period['Current_Period'] - customer_num_per_period['Cohort_Date']).apply(attrgetter('n'))

### 5.1.4  Tabel cohort
cohort_dataset_copy.columns
# Hitung jumlah customer unik per cohort dan periode

customer_num_per_period = cohort_dataset_copy.groupby(['Cohort_Date', 'Current_Period'])['Customer ID'].nunique().reset_index()
customer_num_per_period = customer_num_per_period.rename(columns={'Customer ID': 'Customer_Num'})

# Hitung periode relatif cohort (bulan ke-n sejak cohort)

customer_num_per_period['Period_Num'] = (customer_num_per_period['Current_Period'] - customer_num_per_period['Cohort_Date']
).apply(attrgetter('n'))

customer_num_per_period
# Membuat table cohort

cohort_table = customer_num_per_period.pivot_table(
    index='Cohort_Date',
    columns='Period_Num',
    values='Customer_Num'
)
cohort_table
### 5.1.5 Visualisasi
import seaborn as sb
import numpy as np
import matplotlib.pyplot as plt
customer_num_first_period = cohort_table.iloc[:,0]
customer_num_first_period

cohort_table_in_percentage = cohort_table.copy()

# membuat presentasi retensi dengan pembulatan 2 digit di belakang koma:
cohort_table_in_percentage = np.round(cohort_table_in_percentage.divide(customer_num_first_period, axis= 0), 2) 
cohort_table_in_percentage
## Heatmap

# 5. Heatmap

plt.figure(figsize=(31, 20))
sb.heatmap(
    data= cohort_table_in_percentage,
    annot=True,         # menampilkan angka di tiap sel
    fmt=".0%",          # format persentase
)

plt.title("SaaS Sales Customer Retention")
plt.xlabel("Period (Bulan ke-n sejak cohort)")
plt.ylabel("Cohort (Bulan pertama transaksi)")
plt.show()
Struktur heatmap :
- Baris (y-axis) → Cohort → bulan pertama transaksi pelanggan (bulan mereka bergabung).
- Kolom (x-axis) → Period → bulan ke-n setelah bulan pertama.
- Nilai di sel berwarna → persentase retention → proporsi customer dari cohort tersebut yang masih aktif pada bulan itu.
- sell putih artinya 0 customer atau tidak ada data pada periode tersebut

Business Insight:
* Penurunan Tajam Awal: Hampir semua kohort (terutama 2020-01 hingga 2020-04) menunjukkan penurunan retensi yang signifikan dari Periode 0 (100%) ke Periode 1 (sampai 50%) dan terus menurun hingga Periode ke-8. Mayoritas pelanggan pergi segera setelah bulan pertama atau kedua. Ini menunjukkan kemungkinan adanya masalah dengan pengalaman onboarding, Time-to-Value, atau kesenjangan antara janji pemasaran dengan realitas produk. Menurut Forbes, Time to Value (TTV) adalah waktu yang dibutuhkan pelanggan untuk mulai merasakan manfaat nyata dari produk atau layanan yang mereka beli.
* Pada periode ketiga dan keempat, tingkat retensi cenderung stabil atau menurun lebih landai, bahkan ada juga yang naik pada beberapa cohort. Hal ini mengindikasikan bahwa pelanggan yang bertahan selama 3-4 bulan pertama cenderung menjadi pelanggan yang loyal. Fokus harus beralih ke mempercepat nilai (Time-to-Value) agar lebih banyak pelanggan bisa melewati periode kritis 3 bulan pertama.
* Beberapa sel di kuadran kanan atas (misalnya, kohort 2020-01, periode 18+) menunjukkan retensi yang kuat (merah tua/gelap), membuktikan bahwa produk mampu mempertahankan pelanggan terbaik hingga hampir dua tahun. Berdasarkan analisis ini, tim marketing bisa menggunakan strategi berikut: Fitur apa yang mereka gunakan paling sering? Bagaimana kita bisa menanamkan fitur tersebut ke dalam onboarding pelanggan baru?
